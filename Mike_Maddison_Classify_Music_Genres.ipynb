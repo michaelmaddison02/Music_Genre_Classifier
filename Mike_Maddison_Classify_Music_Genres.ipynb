{
 "cells": [
  {
   "cell_type": "markdown",
   "id": "23f91010",
   "metadata": {},
   "source": [
    "## Classifying The Brain on Music\n",
    "\n",
    "\\## Author: Michael Maddison  \n",
    "\\## Collaborators: Lindsay Harris\n",
    "\n",
    "\n",
    "In this project, I classify fMRI brain images taken while listening to music in five different genres with labels:  \n",
    "&ensp;    *0=Ambient Music,        3=Rock 'n Roll*    \n",
    "&ensp;    *1=Country Music,        4=Classical Symphonic.*     \n",
    "&ensp;    *2=Heavy Metal,*  \n",
    "\n",
    "\n",
    "**Training Data** consist of 160 event-related brain images (trials), corresponding to twenty 6-second music clips, four clips in each of the five genres, repeated in-order eight times (runs).  \n",
    "- Each brain image has 22036 features, corresponding to blood-oxygenation levels at each 2mm-cubed 3D location within a section of the auditory cortex.\n",
    "\n",
    "**Testing data** consists of 40 event-related brain images corresponding to novel 6-second music clips in the five genres. The test data is in randomized order with no labels.\n"
   ]
  },
  {
   "cell_type": "markdown",
   "id": "803effa6",
   "metadata": {},
   "source": [
    "## Data Download"
   ]
  },
  {
   "cell_type": "code",
   "execution_count": 1,
   "id": "280bebb6",
   "metadata": {
    "scrolled": true
   },
   "outputs": [],
   "source": [
    "import numpy as np\n",
    "#!pip install gdown"
   ]
  },
  {
   "cell_type": "code",
   "execution_count": 2,
   "id": "555561eb",
   "metadata": {},
   "outputs": [],
   "source": [
    "# !gdown --id 1aFDPryEDcT5wg0k8NhWYpF8lulGmot5J # train data\n",
    "# !gdown --id 11kgAdB_hkEcC4npCEWJcAOOmGe3495yY # train labels\n",
    "# !gdown --id 1wXq56F6RIUtDzPceZegZAMA-JGW21Gqu # test data"
   ]
  },
  {
   "cell_type": "code",
   "execution_count": 3,
   "id": "d826bd35",
   "metadata": {
    "scrolled": true
   },
   "outputs": [
    {
     "name": "stdout",
     "output_type": "stream",
     "text": [
      "Shape of train_data: (160, 22036)\n",
      "Shape of train_labels: (160, 1)\n",
      "Shape of test_data: (40, 22036)\n"
     ]
    }
   ],
   "source": [
    "# Data Import: Read the data into memory using python's built-in CSV parser\n",
    "import csv\n",
    "\n",
    "with open('train_data.csv', 'r') as csvfile:\n",
    "  train_data = np.array([row for row in csv.reader(csvfile, delimiter=',', quoting=csv.QUOTE_NONNUMERIC)])\n",
    "with open('train_labels.csv', 'r') as csvfile:\n",
    "  train_labels = np.array( [row for row in csv.reader(csvfile, delimiter=',', quoting=csv.QUOTE_NONNUMERIC)] )\n",
    "with open('test_data.csv', 'r') as csvfile:\n",
    "  test_data = np.array( [row for row in csv.reader(csvfile, delimiter=',', quoting=csv.QUOTE_NONNUMERIC)] )\n",
    "\n",
    "print('Shape of train_data: {0}'.format(train_data.shape))\n",
    "print('Shape of train_labels: {0}'.format(train_labels.shape))\n",
    "print('Shape of test_data: {0}'.format(test_data.shape))"
   ]
  },
  {
   "cell_type": "code",
   "execution_count": 4,
   "id": "f90b0392",
   "metadata": {},
   "outputs": [],
   "source": [
    "mask = (train_labels == 0.)\n",
    "select_rows = train_data[mask.flatten()]"
   ]
  },
  {
   "cell_type": "code",
   "execution_count": 5,
   "id": "161525fa",
   "metadata": {
    "scrolled": true
   },
   "outputs": [],
   "source": [
    "from sklearn.model_selection import train_test_split, RandomizedSearchCV\n",
    "from sklearn.svm import SVC\n",
    "from sklearn.neighbors import KNeighborsClassifier\n",
    "from sklearn.linear_model import Perceptron\n",
    "from sklearn.metrics import accuracy_score\n",
    "'''\n",
    "1-1. Hyper-Parameter Search: We use cross-validation to search for the optimal hyperparameters \n",
    "for the SVM multi-class classifer\n",
    "\n",
    "    * used the following resources: \n",
    "        - to understand sklearn's SVM function: https://www.geeksforgeeks.org/svm-hyperparameter-tuning-using-gridsearchcv-ml/\n",
    "'''\n",
    "\n",
    "\n",
    "# Split dataset into training and testing sets\n",
    "# X_train, X_test, y_train, y_test = train_test_split(train_data, train_labels.flatten(), test_size=0.2, random_state=42)\n",
    "\n",
    "# Define hyperparameter search spaces for each classifier\n",
    "svm_param_dist = {\n",
    "    'C': [0.01, 0.1, 1, 10, 50, 80, 90, 100, 500, 1000],\n",
    "    'gamma': [0.001, 0.01, 0.1, 1, 10, 'scale', 'auto'],\n",
    "    'kernel': ['linear', 'rbf', 'poly'],\n",
    "}\n",
    "\n",
    "# Define the Support Vector Model Classifier\n",
    "svm_classifier = SVC()\n",
    "\n",
    "# Perform random hyperparameter search for each classifier\n",
    "svm_random_search = RandomizedSearchCV(estimator=svm_classifier, \n",
    "                                       param_distributions=svm_param_dist,\n",
    "                                       n_iter=60, \n",
    "                                       cv=5, \n",
    "                                       scoring='accuracy', \n",
    "                                       random_state=42)"
   ]
  },
  {
   "cell_type": "code",
   "execution_count": 6,
   "id": "792ccf1e",
   "metadata": {},
   "outputs": [
    {
     "name": "stdout",
     "output_type": "stream",
     "text": [
      "Best hyperparameters found for SVM: {'kernel': 'linear', 'gamma': 1, 'C': 0.1}\n"
     ]
    }
   ],
   "source": [
    "'''\n",
    "1-2. Model training and testing: We train out model with the best combination of \n",
    "hyperparameters (found in 1-1), then predict test labels\n",
    "'''\n",
    "# training data, put in the right formats\n",
    "X_train, y_train = train_data, train_labels.flatten()\n",
    "\n",
    "# Fit the random search to training data\n",
    "svm_random_search.fit(X_train, y_train)\n",
    "\n",
    "# Print best parameters, post-tuning\n",
    "print(\"Best hyperparameters found for SVM:\", svm_random_search.best_params_)\n",
    "\n",
    "        # Predict the test labels using the best hyperparameters for our SVM model\n",
    "        # y_pred = svm_random_search.predict(X_test)"
   ]
  },
  {
   "cell_type": "code",
   "execution_count": 7,
   "id": "8b0f3f9f",
   "metadata": {},
   "outputs": [],
   "source": [
    "import pandas as pd\n",
    "### create csv file with predicted values \n",
    "\n",
    "# Predict test_data labels\n",
    "y_pred = svm_random_search.predict(test_data)\n",
    "num_test = len(test_data) # count of the number of samples in the test set\n",
    "\n",
    "# create data frame containing predicted test_data labels\n",
    "test_submission = pd.DataFrame({\n",
    "    'id':list(range(num_test)),\n",
    "    'predicted':list(y_pred.astype('int32'))})\n",
    "test_submission.head()\n",
    "\n",
    "# convert to CSV file\n",
    "test_submission.to_csv('Michael_Maddison_Classifying_the_Brain_on_Music.csv', index=False)"
   ]
  },
  {
   "cell_type": "markdown",
   "id": "11aaa437",
   "metadata": {},
   "source": [
    "\\***Test Performance as Computed By Kaggle: 0.775***"
   ]
  },
  {
   "cell_type": "code",
   "execution_count": 8,
   "id": "dd8ae283",
   "metadata": {},
   "outputs": [
    {
     "data": {
      "image/png": "[encoded data removed]",
      "text/plain": [
       "<Figure size 432x288 with 2 Axes>"
      ]
     },
     "metadata": {
      "needs_background": "light"
     },
     "output_type": "display_data"
    }
   ],
   "source": [
    "'''\n",
    "1-3 Model Analysis: Here, we conduct a thorough analysis of the model including a *Confusion\n",
    "Matrix* (on the validation set, which we get from spliting the training set into train/validation \n",
    "sets based on runs) and an *Example Examination* ()\n",
    "'''\n",
    "import matplotlib.pyplot as plt\n",
    "from sklearn.metrics import confusion_matrix, ConfusionMatrixDisplay\n",
    "\n",
    "'''1-3-1 Confusion Matrix'''\n",
    "# Split training data into train/validation sets according to runs\n",
    "# Note: (The data is organized into eight runs, in order, with each run repeating \n",
    "# the same 20 music trials.)\n",
    "train_x, train_y = train_data[:120], train_labels[:120].flatten() # we get runs 1-6, or the first 120 rows\n",
    "val_x, val_y = train_data[-40:], train_labels[-40:].flatten() # we get runs 7 & 8, or the last 40 rows\n",
    "\n",
    "svm_random_search.fit(train_x, train_y) # retrain the model on runs 1-6, using the best hyperparameters (found in 1-1)\n",
    "y_pred = svm_random_search.predict(val_x) # test model on runs 7 & 8\n",
    "\n",
    "# show the confusion matrix\n",
    "cm = confusion_matrix(val_y, y_pred, labels=svm_random_search.classes_)\n",
    "disp = ConfusionMatrixDisplay(confusion_matrix=cm, display_labels=svm_random_search.classes_)\n",
    "disp.plot()\n",
    "plt.show()"
   ]
  },
  {
   "cell_type": "code",
   "execution_count": 9,
   "id": "7fd7eb44",
   "metadata": {
    "scrolled": true
   },
   "outputs": [
    {
     "name": "stdout",
     "output_type": "stream",
     "text": [
      "Sample 30: [True_Label: 2.0, Pred_Label: 4.0]\n",
      "Sample 31: [True_Label: 2.0, Pred_Label: 4.0]\n",
      "Sample 34: [True_Label: 3.0, Pred_Label: 1.0]\n",
      "Sample 35: [True_Label: 3.0, Pred_Label: 1.0]\n"
     ]
    }
   ],
   "source": [
    "'''1-3-2 Example Examination'''\n",
    "# Here, we get 4 validation samples where the model fails to classify\n",
    "wrong_predictions = np.where(y_pred != val_y)[0] # indecies where elements are not the same\n",
    "select_4 = wrong_predictions[-4:] # take last 4 incorrect predictions\n",
    "\n",
    "#print 4 incorrect validation samples:\n",
    "print(f\"Sample {select_4[0]}: [True_Label: {val_y[select_4[0]]}, Pred_Label: {y_pred[select_4[0]]}]\")\n",
    "print(f\"Sample {select_4[1]}: [True_Label: {val_y[select_4[1]]}, Pred_Label: {y_pred[select_4[1]]}]\")\n",
    "print(f\"Sample {select_4[2]}: [True_Label: {val_y[select_4[2]]}, Pred_Label: {y_pred[select_4[2]]}]\")\n",
    "print(f\"Sample {select_4[3]}: [True_Label: {val_y[select_4[3]]}, Pred_Label: {y_pred[select_4[3]]}]\")"
   ]
  },
  {
   "cell_type": "markdown",
   "id": "b09442fa",
   "metadata": {},
   "source": [
    "We know that the following labels correspond to the following music genres:\n",
    "    0=Ambient Music, \n",
    "    1=Country Music, \n",
    "    2=Heavy Metal,\n",
    "    3=Rock 'n Roll,\n",
    "    4=Classical Symphonic.\n",
    "   \n",
    "Looking at the Confusion Matrix, we can see that we predicted a person was listening to Classical Symphonic (pred = 4.0) when really they were listening to Heavy Metal (true = 2.0) 2 times, and that a person was listening to Country Music (pred = 1.0) when really they were listening to Rock 'n Roll (true = 3.0) 4 times. From the perspective of human brain data and music genre similarily, we could say that Country Music activates similar parts of the brain that Rock 'n Roll does, and same for Classical Symphonic and Heavy Metal."
   ]
  }
 ],
 "metadata": {
  "kernelspec": {
   "display_name": "Python 3 (ipykernel)",
   "language": "python",
   "name": "python3"
  },
  "language_info": {
   "codemirror_mode": {
    "name": "ipython",
    "version": 3
   },
   "file_extension": ".py",
   "mimetype": "text/x-python",
   "name": "python",
   "nbconvert_exporter": "python",
   "pygments_lexer": "ipython3",
   "version": "3.9.7"
  }
 },
 "nbformat": 4,
 "nbformat_minor": 5
}
